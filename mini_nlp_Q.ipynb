{
  "cells": [
    {
      "cell_type": "markdown",
      "source": [
        "# 미니 의도분석기 실습"
      ],
      "metadata": {
        "id": "2thoqbic4Uxv"
      },
      "id": "2thoqbic4Uxv"
    },
    {
      "cell_type": "markdown",
      "source": [
        "## 학습목차"
      ],
      "metadata": {
        "id": "DvSwQRJu4zRE"
      },
      "id": "DvSwQRJu4zRE"
    },
    {
      "cell_type": "markdown",
      "source": [
        "0. 필요 라이브러리 임포트\n",
        " - python, konlpy, pandas, Komoran\n",
        "1. 사전 데이터 확인\n",
        " - 개체명 파일, 액션-개체명 파일, 액션-패턴 파일\n",
        "2. 발화 형태소 분석 (Komoran 형태소 분석기 사용)\n",
        " - 액션-패턴 파일 변경하여 저장\n",
        "3. 개체명 검색\n",
        " - 일치하는 개체명이 있을 시 치환 (ex. 에어컨 -> iot_device)\n",
        "4. 패턴 검색\n",
        " - 일치하는 패턴 발견 시 액션 반환, 발견하지 못하면 None 반환\n",
        "5. 새로운 액션, 패턴 추가"
      ],
      "metadata": {
        "id": "69TjZh1p5C3j"
      },
      "id": "69TjZh1p5C3j"
    },
    {
      "cell_type": "markdown",
      "source": [
        "# 0. 필요 라이브러리 임포트"
      ],
      "metadata": {
        "id": "oAAVbiXX6nMk"
      },
      "id": "oAAVbiXX6nMk"
    },
    {
      "cell_type": "markdown",
      "source": [
        "### python, konlpy"
      ],
      "metadata": {
        "id": "bTzIWQRt68ku"
      },
      "id": "bTzIWQRt68ku"
    },
    {
      "cell_type": "code",
      "source": [
        "%%bash\n",
        "apt-get update\n",
        "apt-get install g++ openjdk-8-jdk python-dev python3-dev\n",
        "pip3 install konlpy"
      ],
      "metadata": {
        "id": "EztmdWtI7EIU"
      },
      "id": "EztmdWtI7EIU",
      "execution_count": null,
      "outputs": []
    },
    {
      "cell_type": "markdown",
      "source": [
        "### pandas, Komoran"
      ],
      "metadata": {
        "id": "ccoODns26vac"
      },
      "id": "ccoODns26vac"
    },
    {
      "cell_type": "code",
      "source": [
        "import pandas as pd\n",
        "from konlpy.tag import Komoran"
      ],
      "metadata": {
        "id": "MS8J_db56uNa"
      },
      "id": "MS8J_db56uNa",
      "execution_count": 2,
      "outputs": []
    },
    {
      "cell_type": "markdown",
      "source": [
        "# 1. 사전 데이터 확인"
      ],
      "metadata": {
        "id": "_ySdejJb6HQL"
      },
      "id": "_ySdejJb6HQL"
    },
    {
      "cell_type": "markdown",
      "source": [
        "### <font color=green> 구글 드라이브 연동 </font>"
      ],
      "metadata": {
        "id": "9cjOpFMdC0_N"
      },
      "id": "9cjOpFMdC0_N"
    },
    {
      "cell_type": "code",
      "source": [
        "from google.colab import drive\n",
        "drive.mount('/content/drive')"
      ],
      "metadata": {
        "id": "1has_LWF33Ln",
        "colab": {
          "base_uri": "https://localhost:8080/"
        },
        "outputId": "f27d9483-b778-40b7-b2fa-5e6777fd6319"
      },
      "id": "1has_LWF33Ln",
      "execution_count": 3,
      "outputs": [
        {
          "output_type": "stream",
          "name": "stdout",
          "text": [
            "Mounted at /content/drive\n"
          ]
        }
      ]
    },
    {
      "cell_type": "code",
      "source": [
        "%cd \"/content/drive/My Drive\"\n",
        "!git clone \"https://github.com/kisa036/mini_nlp_test.git\""
      ],
      "metadata": {
        "id": "GvbWPqNB39tO",
        "colab": {
          "base_uri": "https://localhost:8080/"
        },
        "outputId": "4d701030-381f-4e3c-d89a-22746b2e3484"
      },
      "id": "GvbWPqNB39tO",
      "execution_count": 6,
      "outputs": [
        {
          "output_type": "stream",
          "name": "stdout",
          "text": [
            "/content/drive/My Drive\n",
            "Cloning into 'lecture_test'...\n",
            "remote: Enumerating objects: 8, done.\u001b[K\n",
            "remote: Counting objects: 100% (8/8), done.\u001b[K\n",
            "remote: Compressing objects: 100% (8/8), done.\u001b[K\n",
            "remote: Total 8 (delta 1), reused 0 (delta 0), pack-reused 0\u001b[K\n",
            "Unpacking objects: 100% (8/8), 6.90 KiB | 57.00 KiB/s, done.\n"
          ]
        }
      ]
    },
    {
      "cell_type": "code",
      "source": [
        "%cd \"/content/drive/My Drive/mini_nlp_test\"\n",
        "%ls"
      ],
      "metadata": {
        "id": "ub56voq9EaHn",
        "colab": {
          "base_uri": "https://localhost:8080/"
        },
        "outputId": "891b31ea-b8f5-45df-d625-588f412d8a9e"
      },
      "id": "ub56voq9EaHn",
      "execution_count": 7,
      "outputs": [
        {
          "output_type": "stream",
          "name": "stdout",
          "text": [
            "/content/drive/My Drive/mini_nlp_test\n",
            "action_ne.csv  action_pattern.csv  mini_nlp_Q.ipynb  ne_value.csv\n"
          ]
        }
      ]
    },
    {
      "cell_type": "markdown",
      "source": [
        "### <font color=green>개체명 파일 : ne_value.csv</font>"
      ],
      "metadata": {
        "id": "kSaZKdED7WXu"
      },
      "id": "kSaZKdED7WXu"
    },
    {
      "cell_type": "code",
      "source": [
        "ne_value = pd.read_csv('ne_value.csv', encoding='utf-8')"
      ],
      "metadata": {
        "id": "zgv6VEayCwXO"
      },
      "id": "zgv6VEayCwXO",
      "execution_count": null,
      "outputs": []
    },
    {
      "cell_type": "code",
      "source": [
        "ne_value"
      ],
      "metadata": {
        "id": "UPV4WHNKD9eC"
      },
      "id": "UPV4WHNKD9eC",
      "execution_count": null,
      "outputs": []
    },
    {
      "cell_type": "markdown",
      "source": [],
      "metadata": {
        "id": "1LKtsjrqFK5s"
      },
      "id": "1LKtsjrqFK5s"
    },
    {
      "cell_type": "markdown",
      "source": [
        "### <font color=green>액션-개체명 파일 : action_ne.csv</font>"
      ],
      "metadata": {
        "id": "XnYdeF4SEkiJ"
      },
      "id": "XnYdeF4SEkiJ"
    },
    {
      "cell_type": "code",
      "source": [
        "action_ne = pd.read_csv('action_ne.csv', encoding='utf-8')"
      ],
      "metadata": {
        "id": "3p_sGIbpFJfU"
      },
      "id": "3p_sGIbpFJfU",
      "execution_count": null,
      "outputs": []
    },
    {
      "cell_type": "code",
      "source": [
        "action_ne"
      ],
      "metadata": {
        "id": "IAw5usiM4yG1"
      },
      "id": "IAw5usiM4yG1",
      "execution_count": null,
      "outputs": []
    },
    {
      "cell_type": "markdown",
      "source": [
        "### <font color=green> 액션-패턴 파일 : action_pattern.csv </font>"
      ],
      "metadata": {
        "id": "leBeUkFSE3eL"
      },
      "id": "leBeUkFSE3eL"
    },
    {
      "cell_type": "code",
      "source": [
        "action_pattern = pd.read_csv('action_pattern.csv', encoding='utf-8')"
      ],
      "metadata": {
        "id": "u9Spr8krEiN6"
      },
      "id": "u9Spr8krEiN6",
      "execution_count": null,
      "outputs": []
    },
    {
      "cell_type": "code",
      "source": [
        "action_pattern"
      ],
      "metadata": {
        "id": "nhbzXBJI47l8"
      },
      "id": "nhbzXBJI47l8",
      "execution_count": null,
      "outputs": []
    },
    {
      "cell_type": "markdown",
      "source": [
        "# 2. 발화 형태소 분석"
      ],
      "metadata": {
        "id": "D6CgTW4EFRq4"
      },
      "id": "D6CgTW4EFRq4"
    },
    {
      "cell_type": "markdown",
      "source": [
        "### <font color=green>Komoran tag 종류 확인</font>"
      ],
      "metadata": {
        "id": "nZBh7Vna5ztL"
      },
      "id": "nZBh7Vna5ztL"
    },
    {
      "cell_type": "code",
      "source": [
        "komoran = Komoran()\n",
        "komoran.tagset"
      ],
      "metadata": {
        "id": "qoTKMSKcEiZg"
      },
      "id": "qoTKMSKcEiZg",
      "execution_count": null,
      "outputs": []
    },
    {
      "cell_type": "markdown",
      "source": [
        "### <font color=green> Komoran 사용 예시</font>"
      ],
      "metadata": {
        "id": "8FaNqjIt5vIt"
      },
      "id": "8FaNqjIt5vIt"
    },
    {
      "cell_type": "code",
      "source": [
        "komoran.pos(\"KOMORAN은 한국어 형태소 분석기입니다\")"
      ],
      "metadata": {
        "id": "_-adJ0iUFXy_"
      },
      "id": "_-adJ0iUFXy_",
      "execution_count": null,
      "outputs": []
    },
    {
      "cell_type": "markdown",
      "source": [
        "### <font color=green> 액션-패턴 파일 변경하여 저장</font>"
      ],
      "metadata": {
        "id": "6yIks5Si79Zt"
      },
      "id": "6yIks5Si79Zt"
    },
    {
      "cell_type": "markdown",
      "source": [
        "##### <font color=blue> **[문제 1] 액션-패턴 파일의 내용을 komoran pos 함수를 이용하여 형태소 분석된 내용으로 \"pattern\" 컬럼에 저장하세요.** </font>"
      ],
      "metadata": {
        "id": "U98b8pUhCPDN"
      },
      "id": "U98b8pUhCPDN"
    },
    {
      "cell_type": "code",
      "source": [
        "# 읽어 들일 파일명 : action_pattern.csv\n",
        "# 액션-패턴 정보(action_pattern) 중 \"pattern\" 내용에 대해 형태소 분석 내용 반영\n",
        "# 결과 : \"action_pattern_komoran.csv\" 파일로 저장\n",
        "\n",
        "# 변경 내용 (volume_up 등의 action은 본형태 유지)\n",
        "## volume_up  볼륨 올려 -> volume_up  볼륨 올리 어\n",
        "## search_weather\tdt_day 날씨 알려줘 -> search_weather\tdt_day 날씨 알리\n",
        "\n",
        "action_pattern_komoran = action_pattern\n",
        "\n",
        "def create_pos_pattern(text):\n",
        "  text = komoran.pos(text)\n",
        "  words = []\n",
        "  patterns = []\n",
        "  \n",
        "  for word in text:\n",
        "    if(word[1] in [\"SL\", \"SW\"]): # dt_day 등의 NE 명칭은 형태 유지\n",
        "      words.append(word[0])\n",
        "    elif(word[1] not in []): # TODO : komoran pos 함수 활용 - '연결 어미'(EC), '보조 용언'(VX) 제거\n",
        "      words.append(\" \" + word[0])\n",
        "\n",
        "  pattern = ''.join(words).strip()\n",
        "  return pattern\n",
        "\n",
        "action_pattern_komoran[\"pattern\"] = action_pattern_komoran[\"pattern\"].apply(lambda x: create_pos_pattern(x))\n",
        "action_pattern_komoran.to_csv('action_pattern_komoran.csv', index=False)"
      ],
      "metadata": {
        "id": "CL0CXMzU9D3q"
      },
      "id": "CL0CXMzU9D3q",
      "execution_count": null,
      "outputs": []
    },
    {
      "cell_type": "code",
      "source": [
        "action_pattern_komoran = pd.read_csv('action_pattern_komoran.csv', encoding='utf-8')\n",
        "action_pattern_komoran\n",
        "\n",
        "## 기대 결과\n",
        "# action\tpattern\n",
        "# 0\ttv_volume_up\t볼륨 올 리\n",
        "# 1\ttv_volume_down\t볼륨 내리\n",
        "# 2\tsh_device_power_on\tiot_device 켜"
      ],
      "metadata": {
        "colab": {
          "base_uri": "https://localhost:8080/",
          "height": 238
        },
        "id": "d7ftKQF4JcoC",
        "outputId": "fb4d8441-64e3-426f-9e14-62472c1dcffe"
      },
      "id": "d7ftKQF4JcoC",
      "execution_count": null,
      "outputs": [
        {
          "output_type": "execute_result",
          "data": {
            "text/plain": [
              "                 action              pattern\n",
              "0             volume_up                볼륨 올리\n",
              "1           volume_down                볼륨 내리\n",
              "2   iot_device_power_on         iot_device 켜\n",
              "3  iot_device_power_off         iot_device 끄\n",
              "4        search_weather         dt_day 날씨 알리\n",
              "5       search_contents  contents_title 검색 하"
            ],
            "text/html": [
              "\n",
              "  <div id=\"df-2d154ac2-41f5-4886-be55-a2ffa62a7d3c\">\n",
              "    <div class=\"colab-df-container\">\n",
              "      <div>\n",
              "<style scoped>\n",
              "    .dataframe tbody tr th:only-of-type {\n",
              "        vertical-align: middle;\n",
              "    }\n",
              "\n",
              "    .dataframe tbody tr th {\n",
              "        vertical-align: top;\n",
              "    }\n",
              "\n",
              "    .dataframe thead th {\n",
              "        text-align: right;\n",
              "    }\n",
              "</style>\n",
              "<table border=\"1\" class=\"dataframe\">\n",
              "  <thead>\n",
              "    <tr style=\"text-align: right;\">\n",
              "      <th></th>\n",
              "      <th>action</th>\n",
              "      <th>pattern</th>\n",
              "    </tr>\n",
              "  </thead>\n",
              "  <tbody>\n",
              "    <tr>\n",
              "      <th>0</th>\n",
              "      <td>volume_up</td>\n",
              "      <td>볼륨 올리</td>\n",
              "    </tr>\n",
              "    <tr>\n",
              "      <th>1</th>\n",
              "      <td>volume_down</td>\n",
              "      <td>볼륨 내리</td>\n",
              "    </tr>\n",
              "    <tr>\n",
              "      <th>2</th>\n",
              "      <td>iot_device_power_on</td>\n",
              "      <td>iot_device 켜</td>\n",
              "    </tr>\n",
              "    <tr>\n",
              "      <th>3</th>\n",
              "      <td>iot_device_power_off</td>\n",
              "      <td>iot_device 끄</td>\n",
              "    </tr>\n",
              "    <tr>\n",
              "      <th>4</th>\n",
              "      <td>search_weather</td>\n",
              "      <td>dt_day 날씨 알리</td>\n",
              "    </tr>\n",
              "    <tr>\n",
              "      <th>5</th>\n",
              "      <td>search_contents</td>\n",
              "      <td>contents_title 검색 하</td>\n",
              "    </tr>\n",
              "  </tbody>\n",
              "</table>\n",
              "</div>\n",
              "      <button class=\"colab-df-convert\" onclick=\"convertToInteractive('df-2d154ac2-41f5-4886-be55-a2ffa62a7d3c')\"\n",
              "              title=\"Convert this dataframe to an interactive table.\"\n",
              "              style=\"display:none;\">\n",
              "        \n",
              "  <svg xmlns=\"http://www.w3.org/2000/svg\" height=\"24px\"viewBox=\"0 0 24 24\"\n",
              "       width=\"24px\">\n",
              "    <path d=\"M0 0h24v24H0V0z\" fill=\"none\"/>\n",
              "    <path d=\"M18.56 5.44l.94 2.06.94-2.06 2.06-.94-2.06-.94-.94-2.06-.94 2.06-2.06.94zm-11 1L8.5 8.5l.94-2.06 2.06-.94-2.06-.94L8.5 2.5l-.94 2.06-2.06.94zm10 10l.94 2.06.94-2.06 2.06-.94-2.06-.94-.94-2.06-.94 2.06-2.06.94z\"/><path d=\"M17.41 7.96l-1.37-1.37c-.4-.4-.92-.59-1.43-.59-.52 0-1.04.2-1.43.59L10.3 9.45l-7.72 7.72c-.78.78-.78 2.05 0 2.83L4 21.41c.39.39.9.59 1.41.59.51 0 1.02-.2 1.41-.59l7.78-7.78 2.81-2.81c.8-.78.8-2.07 0-2.86zM5.41 20L4 18.59l7.72-7.72 1.47 1.35L5.41 20z\"/>\n",
              "  </svg>\n",
              "      </button>\n",
              "      \n",
              "  <style>\n",
              "    .colab-df-container {\n",
              "      display:flex;\n",
              "      flex-wrap:wrap;\n",
              "      gap: 12px;\n",
              "    }\n",
              "\n",
              "    .colab-df-convert {\n",
              "      background-color: #E8F0FE;\n",
              "      border: none;\n",
              "      border-radius: 50%;\n",
              "      cursor: pointer;\n",
              "      display: none;\n",
              "      fill: #1967D2;\n",
              "      height: 32px;\n",
              "      padding: 0 0 0 0;\n",
              "      width: 32px;\n",
              "    }\n",
              "\n",
              "    .colab-df-convert:hover {\n",
              "      background-color: #E2EBFA;\n",
              "      box-shadow: 0px 1px 2px rgba(60, 64, 67, 0.3), 0px 1px 3px 1px rgba(60, 64, 67, 0.15);\n",
              "      fill: #174EA6;\n",
              "    }\n",
              "\n",
              "    [theme=dark] .colab-df-convert {\n",
              "      background-color: #3B4455;\n",
              "      fill: #D2E3FC;\n",
              "    }\n",
              "\n",
              "    [theme=dark] .colab-df-convert:hover {\n",
              "      background-color: #434B5C;\n",
              "      box-shadow: 0px 1px 3px 1px rgba(0, 0, 0, 0.15);\n",
              "      filter: drop-shadow(0px 1px 2px rgba(0, 0, 0, 0.3));\n",
              "      fill: #FFFFFF;\n",
              "    }\n",
              "  </style>\n",
              "\n",
              "      <script>\n",
              "        const buttonEl =\n",
              "          document.querySelector('#df-2d154ac2-41f5-4886-be55-a2ffa62a7d3c button.colab-df-convert');\n",
              "        buttonEl.style.display =\n",
              "          google.colab.kernel.accessAllowed ? 'block' : 'none';\n",
              "\n",
              "        async function convertToInteractive(key) {\n",
              "          const element = document.querySelector('#df-2d154ac2-41f5-4886-be55-a2ffa62a7d3c');\n",
              "          const dataTable =\n",
              "            await google.colab.kernel.invokeFunction('convertToInteractive',\n",
              "                                                     [key], {});\n",
              "          if (!dataTable) return;\n",
              "\n",
              "          const docLinkHtml = 'Like what you see? Visit the ' +\n",
              "            '<a target=\"_blank\" href=https://colab.research.google.com/notebooks/data_table.ipynb>data table notebook</a>'\n",
              "            + ' to learn more about interactive tables.';\n",
              "          element.innerHTML = '';\n",
              "          dataTable['output_type'] = 'display_data';\n",
              "          await google.colab.output.renderOutput(dataTable, element);\n",
              "          const docLink = document.createElement('div');\n",
              "          docLink.innerHTML = docLinkHtml;\n",
              "          element.appendChild(docLink);\n",
              "        }\n",
              "      </script>\n",
              "    </div>\n",
              "  </div>\n",
              "  "
            ]
          },
          "metadata": {},
          "execution_count": 19
        }
      ]
    },
    {
      "cell_type": "markdown",
      "source": [
        "# 3. 개체명 검색\n"
      ],
      "metadata": {
        "id": "rXGEXc_SKcnh"
      },
      "id": "rXGEXc_SKcnh"
    },
    {
      "cell_type": "markdown",
      "source": [
        "##### <font color=blue> **[문제 2] 분석된 형태소 중 명사에 한하여 개체명을 검색하여 치환하세요.** </font>"
      ],
      "metadata": {
        "id": "SHAgEMd1K4IR"
      },
      "id": "SHAgEMd1K4IR"
    },
    {
      "cell_type": "code",
      "source": [
        "# 읽어 들일 파일명 : ne_value.csv\n",
        "# 함수명 : replace_ne()\n",
        "# 개체명이 치환된 패턴을 반환\n",
        "\n",
        "ne_value = pd.read_csv('ne_value.csv', encoding='utf-8')\n",
        "\n",
        "def replace_ne(text):\n",
        "  pos = komoran.pos(text)\n",
        "\n",
        "  for word in pos:\n",
        "    if(word[1] in []): # TODO : komoran pos 함수 활용, \"명사\"에 한하여 개체명을 검색한 후 개체명 이름(ne)로 치환\n",
        "      for row in ne_value.itertuples():\n",
        "          if(word[0] == row.value):\n",
        "            text = text.replace(row.value, row.ne)\n",
        "  return text\n",
        "\n",
        "text = replace_ne(\"내일 날씨 알려줘\")\n",
        "text\n",
        "\n",
        "## 기대 결과\n",
        "# 'dt_day 날씨 알려줘'"
      ],
      "metadata": {
        "colab": {
          "base_uri": "https://localhost:8080/",
          "height": 34
        },
        "id": "pUhM_z4sPkpm",
        "outputId": "c38fbaef-5841-4de0-9e04-962bb36af38a"
      },
      "id": "pUhM_z4sPkpm",
      "execution_count": null,
      "outputs": [
        {
          "output_type": "execute_result",
          "data": {
            "text/plain": [
              "'dt_day 날씨 알려줘'"
            ],
            "application/vnd.google.colaboratory.intrinsic+json": {
              "type": "string"
            }
          },
          "metadata": {},
          "execution_count": 21
        }
      ]
    },
    {
      "cell_type": "markdown",
      "source": [
        "# 4. 패턴 검색"
      ],
      "metadata": {
        "id": "aaruIrgSVmIj"
      },
      "id": "aaruIrgSVmIj"
    },
    {
      "cell_type": "markdown",
      "source": [
        "##### <font color=blue> **[문제 3] 입력되는 발화에 일치되는 패턴을 있는지 검색하여 결과를 출력하세요.** </font>"
      ],
      "metadata": {
        "id": "pKhRNXgIX-uk"
      },
      "id": "pKhRNXgIX-uk"
    },
    {
      "cell_type": "code",
      "execution_count": null,
      "id": "d0639fee",
      "metadata": {
        "id": "d0639fee",
        "colab": {
          "base_uri": "https://localhost:8080/"
        },
        "outputId": "ecadb6fe-91ab-4a4a-e779-173cffd52152"
      },
      "outputs": [
        {
          "output_type": "stream",
          "name": "stdout",
          "text": [
            "test pattern:  오늘 날씨 알려줘\n",
            "pos:  [('오늘', 'NNG'), ('날씨', 'NNP'), ('알리', 'VV'), ('어', 'EC'), ('주', 'VX'), ('어', 'EC')]\n",
            "matched pattern:  dt_day 날씨 알리\n",
            "detected action:  search_weather\n"
          ]
        }
      ],
      "source": [
        "# 읽어 들일 파일명 : action_pattern_komoran.csv, action_ne.csv\n",
        "# 함수명 : detect_pattern()\n",
        "\n",
        "# action_ne.csv 파일에 선언된 action을 모두 점검\n",
        "# 해당 action 에서 허용하는 NE인지 확인 후 개체명 치환 (action_ne.csv)\n",
        "# 일치하는 패턴 발견 시 액션 반환, 발견하지 못하면 None 반환\n",
        "\n",
        "action_ne = pd.read_csv('action_ne.csv', encoding='utf-8')\n",
        "\n",
        "patterns = pd.read_csv('action_pattern_komoran.csv', encoding='utf-8')\n",
        "pattern_action = pd.Series(patterns.action.values, index=patterns.pattern).to_dict()\n",
        "\n",
        "def detect_pattern(text):\n",
        "  result_dict = {\"pos\":'', \"matched pattern\":'None', \"detected action\":'None'}\n",
        "  pos = komoran.pos(text)\n",
        "  pos_text = create_pos_pattern(text)\n",
        "  result_dict[\"pos\"] = pos\n",
        "\n",
        "  for actions in action_ne.itertuples():\n",
        "    \n",
        "    # 해당 action 에서 허용하는 NE인지 확인 후 개체명 치환\n",
        "    for word in pos:\n",
        "      if(word[1] in []): # TODO : [문제 2]번 결과\n",
        "        #print(word[0])\n",
        "        for row in ne_value.itertuples():\n",
        "          if(word[0] == row.value and not pd.isna(actions.ne) and row.ne == actions.ne):\n",
        "            pos_text = pos_text.replace(row.value, row.ne)\n",
        "\n",
        "    # 일치하는 패턴이 있는지 확인\n",
        "    for pattern, action in pattern_action.items():\n",
        "      # TODO : 개채명이 치환된 패턴과 action_pattern_komoran 파일 내 패턴을 비교하여 같은 경우, 해당 패턴과 action을 result_dict 결과에 저장\n",
        "\n",
        "\n",
        "  return result_dict\n",
        "\n",
        "test_pattern = \"오늘 날씨 알려줘\"\n",
        "result = detect_pattern(test_pattern)\n",
        "\n",
        "print(\"test pattern: \", test_pattern)\n",
        "print(\"pos: \", result[\"pos\"])\n",
        "print(\"matched pattern: \", result[\"matched pattern\"])\n",
        "print(\"detected action: \", result[\"detected action\"])\n",
        "\n",
        "\n",
        "# 기대 결과\n",
        "# test pattern:  오늘 날씨 알려줘\n",
        "# pos:  [('오늘', 'NNG'), ('날씨', 'NNP')]\n",
        "# matched pattern:  dt_day 날씨\n",
        "# detected action:  wt_search_weather"
      ]
    },
    {
      "cell_type": "markdown",
      "source": [
        "# 5. 새로운 액션 패턴 추가"
      ],
      "metadata": {
        "id": "FAl9WlOvRS73"
      },
      "id": "FAl9WlOvRS73"
    },
    {
      "cell_type": "markdown",
      "source": [
        "##### <font color=blue> **[문제 4] \"기생충 감독 누구야\" 발화 인식하기 위한 액션, 개체명, 패턴을 추가하세요.** </font>"
      ],
      "metadata": {
        "id": "2w0MnW6oSERe"
      },
      "id": "2w0MnW6oSERe"
    },
    {
      "cell_type": "code",
      "source": [
        "# 액션 : \"search_director\"\n",
        "# 발화 : \"기생충 감독 누구야\"\n",
        "\n",
        "# TODO : 파일 수정 - ne_value.csv. action_ne.csv, action_pattern.csv\n",
        "# 파일 수정 후 2~4번 과정 통해 의도분석 결과 확인"
      ],
      "metadata": {
        "id": "nMp65o-sRmk_"
      },
      "id": "nMp65o-sRmk_",
      "execution_count": null,
      "outputs": []
    }
  ],
  "metadata": {
    "kernelspec": {
      "display_name": "Python 3 (ipykernel)",
      "language": "python",
      "name": "python3"
    },
    "language_info": {
      "codemirror_mode": {
        "name": "ipython",
        "version": 3
      },
      "file_extension": ".py",
      "mimetype": "text/x-python",
      "name": "python",
      "nbconvert_exporter": "python",
      "pygments_lexer": "ipython3",
      "version": "3.7.0"
    },
    "colab": {
      "provenance": []
    }
  },
  "nbformat": 4,
  "nbformat_minor": 5
}
